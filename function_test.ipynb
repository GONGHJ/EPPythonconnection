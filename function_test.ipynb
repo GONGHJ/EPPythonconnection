{
 "cells": [
  {
   "cell_type": "code",
   "execution_count": 62,
   "metadata": {
    "collapsed": false
   },
   "outputs": [
    {
     "name": "stdout",
     "output_type": "stream",
     "text": [
      "[-11.0632183908046, 1.1364942528735633]\n"
     ]
    }
   ],
   "source": [
    "import SingleHouseModel\n",
    "import numpy\n",
    "SOC = 0.2\n",
    "[a,b] = SingleHouseModel.bidding_scheme(0.5, 200)\n",
    "# print(bidding_schemes[1])\n",
    "print([a,b])"
   ]
  },
  {
   "cell_type": "code",
   "execution_count": 77,
   "metadata": {
    "collapsed": true
   },
   "outputs": [
    {
     "name": "stdout",
     "output_type": "stream",
     "text": [
      "[[[0.94102243 0.1240698  0.40063494 0.02993803 0.7029857  0.6292874 ]\n  [0.81911958 0.11928306 0.03019391 0.26319519 0.67924536 0.33891443]\n  [0.69912706 0.08508996 0.71006462 0.64725012 0.01824045 0.57716285]\n  [0.17860639 0.1750949  0.546416   0.83785276 0.23869531 0.9680457 ]]\n\n [[0.70361402 0.7328556  0.97644992 0.40192862 0.2800292  0.41246258]\n  [0.06760188 0.02447985 0.43266005 0.43399848 0.14557689 0.94620249]\n  [0.20014575 0.51281335 0.54046923 0.002345   0.95383558 0.1433802 ]\n  [0.68610001 0.59412466 0.95110221 0.34675559 0.92282699 0.69305829]]]\n[[[0.94102243 0.1240698  0.40063494 0.02993803 0.7029857  0.6292874 ]\n  [0.81911958 0.11928306 0.03019391 0.26319519 0.67924536 0.33891443]\n  [0.69912706 0.08508996 0.71006462 0.64725012 0.01824045 0.57716285]\n  [0.17860639 0.1750949  0.546416   0.83785276 0.23869531 0.9680457 ]]\n\n [[0.70361402 0.7328556  0.97644992 0.40192862 0.2800292  1.        ]\n  [0.06760188 0.02447985 0.43266005 0.43399848 0.14557689 1.        ]\n  [0.20014575 0.51281335 0.54046923 0.002345   0.95383558 1.        ]\n  [0.68610001 0.59412466 0.95110221 0.34675559 0.92282699 1.        ]]]\n"
     ]
    }
   ],
   "source": [
    "import numpy\n",
    "c = numpy.random.rand(2,4,6)\n",
    "# print(c)\n",
    "# print(c[0:2, 1, 1])\n",
    "# c[0:2, 1, 1] = [a, b]\n",
    "# print([a,b])\n",
    "# print(c[0:2, 1, 1])\n",
    "d = c[0:2, :, 1]\n",
    "# print(d)\n",
    "# print(d[:,0])\n",
    "print(c)\n",
    "c[1, :, 5] = 1\n",
    "print(c)"
   ]
  },
  {
   "cell_type": "code",
   "execution_count": 49,
   "metadata": {},
   "outputs": [
    {
     "name": "stdout",
     "output_type": "stream",
     "text": [
      "123\n"
     ]
    }
   ],
   "source": [
    "if 1!=0:\n",
    "    print(\"123\")"
   ]
  },
  {
   "cell_type": "code",
   "execution_count": 51,
   "metadata": {
    "collapsed": true
   },
   "outputs": [
    {
     "name": "stdout",
     "output_type": "stream",
     "text": [
      "45\n"
     ]
    }
   ],
   "source": [
    "a= range(10)\n",
    "print(sum(a))"
   ]
  },
  {
   "cell_type": "code",
   "execution_count": 70,
   "metadata": {},
   "outputs": [
    {
     "name": "stdout",
     "output_type": "stream",
     "text": [
      "0.03\n[0.720801922264564, 0.5152376315684639, 0.6689610543414861, 0.389164721321924]\n"
     ]
    }
   ],
   "source": [
    "import Aggregator\n",
    "agg_decision = Aggregator.AggregatorDecision(d, 1)\n",
    "print(agg_decision.price())\n",
    "print(agg_decision.energy_distribution())"
   ]
  },
  {
   "cell_type": "code",
   "execution_count": null,
   "metadata": {},
   "outputs": [],
   "source": [
    "a= [1  2 3]\n",
    "b=[4 6 5]"
   ]
  }
 ],
 "metadata": {
  "kernelspec": {
   "display_name": "Python 2",
   "language": "python",
   "name": "python2"
  },
  "language_info": {
   "codemirror_mode": {
    "name": "ipython",
    "version": 2
   },
   "file_extension": ".py",
   "mimetype": "text/x-python",
   "name": "python",
   "nbconvert_exporter": "python",
   "pygments_lexer": "ipython2",
   "version": "2.7.6"
  }
 },
 "nbformat": 4,
 "nbformat_minor": 0
}
