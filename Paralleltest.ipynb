{
 "cells": [
  {
   "cell_type": "code",
   "execution_count": 1,
   "metadata": {
    "collapsed": true
   },
   "outputs": [],
   "source": [
    "import threading\n",
    "import time\n",
    "import threadFunctiontest\n",
    "import numpy\n"
   ]
  },
  {
   "cell_type": "code",
   "execution_count": 2,
   "metadata": {
    "collapsed": true
   },
   "outputs": [],
   "source": [
    "jobs = []\n",
    "for n in range(100):\n",
    "    job = threading.Thread(target=threadFunctiontest.print_test, args=(n,))\n",
    "    jobs.append(job)"
   ]
  },
  {
   "cell_type": "code",
   "execution_count": 3,
   "metadata": {
    "collapsed": true
   },
   "outputs": [
    {
     "name": "stdout",
     "output_type": "stream",
     "text": [
      "0\n1\n2\n34\n\n5\n6\n7\n8\n9\n10\n11\n12\n13\n14\n15\n16\n17\n1819\n\n20\n21\n2223\n\n24\n25\n26\n27\n28\n29\n3031\n32\n\n33\n34\n35\n36\n37\n38\n39\n40\n41\n42\n43\n44\n4546\n\n47\n48\n49\n50\n51\n5253\n54\n\n55\n"
     ]
    },
    {
     "name": "stdout",
     "output_type": "stream",
     "text": [
      "5657\n\n58\n59\n60\n61\n62\n63\n64\n6566\n\n67\n68\n69\n70\n71\n7273\n74\n\n75\n76\n77\n78\n79\n8081\n\n82\n83\n84\n85\n86\n87\n88\n89\n9091\n\n92\n93\n94\n95\n96\n9798\n\n"
     ]
    },
    {
     "name": "stdout",
     "output_type": "stream",
     "text": [
      "99\n"
     ]
    }
   ],
   "source": [
    "for p in jobs:\n",
    "    # print(numpy.size(threading.enumerate()))\n",
    "    p.start()\n",
    "    # time.sleep(0.2)\n",
    "    \n",
    "\n"
   ]
  },
  {
   "cell_type": "code",
   "execution_count": 6,
   "metadata": {
    "collapsed": true
   },
   "outputs": [],
   "source": [
    "for p in jobs:\n",
    "    p.join()\n"
   ]
  },
  {
   "cell_type": "code",
   "execution_count": 4,
   "metadata": {},
   "outputs": [
    {
     "name": "stdout",
     "output_type": "stream",
     "text": [
      "104\n[<_MainThread(MainThread, started 4648)>, <Thread(Thread-4, started daemon 8948)>, <Heartbeat(Thread-5, started daemon 8260)>, <HistorySavingThread(IPythonHistorySavingThread, started 5884)>, <Thread(Thread-6, started 9740)>, <Thread(Thread-7, started 7892)>, <Thread(Thread-8, started 8920)>, <Thread(Thread-9, started 7504)>, <Thread(Thread-10, started 8632)>, <Thread(Thread-11, started 5596)>, <Thread(Thread-12, started 4412)>, <Thread(Thread-13, started 9764)>, <Thread(Thread-14, started 6132)>, <Thread(Thread-15, started 8956)>, <Thread(Thread-16, started 1720)>, <Thread(Thread-17, started 5716)>, <Thread(Thread-18, started 8020)>, <Thread(Thread-19, started 5488)>, <Thread(Thread-20, started 8556)>, <Thread(Thread-21, started 1300)>, <Thread(Thread-22, started 8544)>, <Thread(Thread-23, started 964)>, <Thread(Thread-24, started 7956)>, <Thread(Thread-25, started 1324)>, <Thread(Thread-26, started 9584)>, <Thread(Thread-27, started 8980)>, <Thread(Thread-28, started 8888)>, <Thread(Thread-29, started 9556)>, <Thread(Thread-30, started 8716)>, <Thread(Thread-31, started 9808)>, <Thread(Thread-32, started 7600)>, <Thread(Thread-33, started 4444)>, <Thread(Thread-34, started 7692)>, <Thread(Thread-35, started 5992)>, <Thread(Thread-36, started 7800)>, <Thread(Thread-37, started 8228)>, <Thread(Thread-38, started 6416)>, <Thread(Thread-39, started 9596)>, <Thread(Thread-40, started 9820)>, <Thread(Thread-41, started 2188)>, <Thread(Thread-42, started 7000)>, <Thread(Thread-43, started 9600)>, <Thread(Thread-44, started 8424)>, <Thread(Thread-45, started 10064)>, <Thread(Thread-46, started 9524)>, <Thread(Thread-47, started 8216)>, <Thread(Thread-48, started 3608)>, <Thread(Thread-49, started 8732)>, <Thread(Thread-50, started 9784)>, <Thread(Thread-51, started 9980)>, <Thread(Thread-52, started 6652)>, <Thread(Thread-53, started 6920)>, <Thread(Thread-54, started 8460)>, <Thread(Thread-55, started 7620)>, <Thread(Thread-56, started 1308)>, <Thread(Thread-57, started 5060)>, <Thread(Thread-58, started 8996)>, <Thread(Thread-59, started 7960)>, <Thread(Thread-60, started 7732)>, <Thread(Thread-61, started 9512)>, <Thread(Thread-62, started 5028)>, <Thread(Thread-63, started 10124)>, <Thread(Thread-64, started 4808)>, <Thread(Thread-65, started 8752)>, <Thread(Thread-66, started 3536)>, <Thread(Thread-67, started 4876)>, <Thread(Thread-68, started 6996)>, <Thread(Thread-69, started 4220)>, <Thread(Thread-70, started 10036)>, <Thread(Thread-71, started 6056)>, <Thread(Thread-72, started 7712)>, <Thread(Thread-73, started 5272)>, <Thread(Thread-74, started 6524)>, <Thread(Thread-75, started 6164)>, <Thread(Thread-76, started 2580)>, <Thread(Thread-77, started 9776)>, <Thread(Thread-78, started 6608)>, <Thread(Thread-79, started 8712)>, <Thread(Thread-80, started 7628)>, <Thread(Thread-81, started 8560)>, <Thread(Thread-82, started 8564)>, <Thread(Thread-83, started 8580)>, <Thread(Thread-84, started 8576)>, <Thread(Thread-85, started 8572)>, <Thread(Thread-86, started 7356)>, <Thread(Thread-87, started 10108)>, <Thread(Thread-88, started 6208)>, <Thread(Thread-89, started 8080)>, <Thread(Thread-90, started 5468)>, <Thread(Thread-91, started 4736)>, <Thread(Thread-92, started 1928)>, <Thread(Thread-93, started 3488)>, <Thread(Thread-94, started 4404)>, <Thread(Thread-95, started 7716)>, <Thread(Thread-96, started 7820)>, <Thread(Thread-97, started 6088)>, <Thread(Thread-98, started 8296)>, <Thread(Thread-99, started 8380)>, <Thread(Thread-100, started 8388)>, <Thread(Thread-101, started 8396)>, <Thread(Thread-102, started 3984)>, <Thread(Thread-103, started 9932)>, <Thread(Thread-104, started 9060)>, <Thread(Thread-105, started 4624)>]\n"
     ]
    }
   ],
   "source": [
    "print(threading.active_count())\n",
    "print(threading.enumerate())"
   ]
  },
  {
   "cell_type": "code",
   "execution_count": 25,
   "metadata": {},
   "outputs": [
    {
     "name": "stdout",
     "output_type": "stream",
     "text": [
      "100\n"
     ]
    }
   ],
   "source": [
    "print(numpy.size(jobs))"
   ]
  },
  {
   "cell_type": "code",
   "execution_count": 7,
   "metadata": {},
   "outputs": [],
   "source": []
  },
  {
   "cell_type": "code",
   "execution_count": null,
   "metadata": {},
   "outputs": [],
   "source": []
  }
 ],
 "metadata": {
  "kernelspec": {
   "display_name": "Python 2",
   "language": "python",
   "name": "python2"
  },
  "language_info": {
   "codemirror_mode": {
    "name": "ipython",
    "version": 2
   },
   "file_extension": ".py",
   "mimetype": "text/x-python",
   "name": "python",
   "nbconvert_exporter": "python",
   "pygments_lexer": "ipython2",
   "version": "2.7.6"
  }
 },
 "nbformat": 4,
 "nbformat_minor": 0
}
